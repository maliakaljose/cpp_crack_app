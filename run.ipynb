{
 "cells": [
  {
   "cell_type": "code",
   "execution_count": 1,
   "metadata": {},
   "outputs": [
    {
     "name": "stdout",
     "output_type": "stream",
     "text": [
      "Overwriting jobuild\n"
     ]
    }
   ],
   "source": [
    "%%writefile jobuild\n",
    "cd $PBS_O_WORKDIR\n",
    "export Caffe_DIR=/glob/intel-python/python2/bin/caffe\n",
    "export CMAKE_PREFIX_PATH=/glob/intel-python/python2/bin/caffe\n",
    "pwd\n",
    "cd /home/u14924/crackdetection/build\n",
    "/usr/bin/cmake ../\n",
    "echo \"*Bye\"\n"
   ]
  },
  {
   "cell_type": "code",
   "execution_count": 8,
   "metadata": {},
   "outputs": [
    {
     "name": "stdout",
     "output_type": "stream",
     "text": [
      "00.ipynb\n",
      "00.ipynb.1\n",
      "build/\n",
      "build/CMakeFiles/\n",
      "build/CMakeFiles/CMakeOutput.log\n",
      "build/CMakeFiles/2.8.11/\n",
      "build/CMakeFiles/2.8.11/CMakeSystem.cmake\n",
      "build/CMakeFiles/2.8.11/CompilerIdC/\n",
      "build/CMakeFiles/2.8.11/CompilerIdC/CMakeCCompilerId.c\n",
      "build/CMakeFiles/2.8.11/CompilerIdC/a.out\n",
      "build/CMakeFiles/2.8.11/CompilerIdCXX/\n",
      "build/CMakeFiles/2.8.11/CompilerIdCXX/CMakeCXXCompilerId.cpp\n",
      "build/CMakeFiles/2.8.11/CompilerIdCXX/CMakeCXXCompilerId.gcno\n",
      "build/CMakeFiles/2.8.11/CompilerIdCXX/a.out\n",
      "build/CMakeFiles/2.8.11/CMakeDetermineCompilerABI_C.bin\n",
      "build/CMakeFiles/2.8.11/CMakeCCompiler.cmake\n",
      "build/CMakeFiles/2.8.11/CMakeDetermineCompilerABI_CXX.bin\n",
      "build/CMakeFiles/2.8.11/CMakeCXXCompiler.cmake\n",
      "build/CMakeFiles/CMakeError.log\n",
      "build/CMakeFiles/CMakeTmp/\n",
      "build/CMakeFiles/cmake.check_cache\n",
      "build/CMakeCache.txt\n",
      "CMakeLists.txt\n",
      "FindCaffe.cmake\n",
      "images/\n",
      "images/cracks/\n",
      "images/cracks/58.jpg\n",
      "images/cracks/48.jpg\n",
      "images/cracks/50.jpg\n",
      "images/cracks/83.jpg\n",
      "images/cracks/49.jpg\n",
      "images/cracks/51.jpg\n",
      "images/cracks/84.jpg\n",
      "images/cracks/53.jpg\n",
      "images/cracks/19.jpg\n",
      "images/cracks/6.jpg\n",
      "images/cracks/85.jpg\n",
      "images/cracks/54.jpg\n",
      "images/cracks/55.jpg\n",
      "images/cracks/17.png\n",
      "images/cracks/86.jpg\n",
      "images/cracks/52.png\n",
      "images/cracks/56.jpg\n",
      "images/cracks/87.jpg\n",
      "images/cracks/3.jpg\n",
      "images/cracks/90.jpg\n",
      "images/cracks/88.jpg\n",
      "images/cracks/23.jpg\n",
      "images/cracks/91.jpg\n",
      "images/cracks/1.jpg\n",
      "images/cracks/89.jpg\n",
      "images/cracks/24.jpg\n",
      "images/cracks/92.jpg\n",
      "images/cracks/25.jpg\n",
      "images/cracks/60.jpg\n",
      "images/cracks/26.jpg\n",
      "images/cracks/4.jpg\n",
      "images/cracks/27.jpg\n",
      "images/cracks/61.jpg\n",
      "images/cracks/59.jpg\n",
      "images/cracks/62.jpg\n",
      "images/cracks/33.jpg\n",
      "images/cracks/29.jpg\n",
      "images/cracks/63.jpg\n",
      "images/cracks/32.jpg\n",
      "images/cracks/64.jpg\n",
      "images/cracks/65.jpg\n",
      "images/cracks/35.jpg\n",
      "images/cracks/34.jpg\n",
      "images/cracks/36.jpg\n",
      "images/cracks/67.jpg\n",
      "images/cracks/70.jpg\n",
      "images/cracks/68.jpg\n",
      "images/cracks/7.jpg\n",
      "images/cracks/71.jpg\n",
      "images/cracks/69.jpg\n",
      "images/cracks/37.jpg\n",
      "images/cracks/72.jpg\n",
      "images/cracks/40.jpg\n",
      "images/cracks/38.jpg\n",
      "images/cracks/73.jpg\n",
      "images/cracks/41.jpg\n",
      "images/cracks/39.jpg\n",
      "images/cracks/74.jpg\n",
      "images/cracks/57.jpg\n",
      "images/cracks/5.jpg\n",
      "images/cracks/42.jpg\n",
      "images/cracks/75.jpg\n",
      "images/cracks/12.jpg\n",
      "images/cracks/47.jpeg\n",
      "images/cracks/43.jpg\n",
      "images/cracks/76.jpg\n",
      "images/cracks/14.jpg\n",
      "images/cracks/44.jpg\n",
      "images/cracks/10.png\n",
      "images/cracks/77.jpg\n",
      "images/cracks/16.jpg\n",
      "images/cracks/46.jpg\n",
      "images/cracks/80.jpg\n",
      "images/cracks/18.jpg\n",
      "images/cracks/78.jpg\n",
      "images/cracks/13.jpg\n",
      "images/cracks/81.jpg\n",
      "images/cracks/45.png\n",
      "images/cracks/79.jpg\n",
      "images/cracks/82.jpg\n",
      "images/nocracks/\n",
      "images/nocracks/14.jpg\n",
      "images/nocracks/15.jpg\n",
      "images/nocracks/20.jpg\n",
      "images/nocracks/18.jpg\n",
      "images/nocracks/21.jpg\n",
      "images/nocracks/19.jpg\n",
      "images/nocracks/22.jpg\n",
      "images/nocracks/23.jpg\n",
      "images/nocracks/1.jpg\n",
      "images/nocracks/24.jpg\n",
      "images/nocracks/3.jpg\n",
      "images/nocracks/2.jpeg\n",
      "images/nocracks/2.png\n",
      "images/nocracks/27.jpg\n",
      "images/nocracks/5.jpg\n",
      "images/nocracks/30.jpg\n",
      "images/nocracks/28.jpg\n",
      "images/nocracks/4.png\n",
      "images/nocracks/31.jpg\n",
      "images/nocracks/29.jpg\n",
      "images/nocracks/5.png\n",
      "images/nocracks/32.jpg\n",
      "images/nocracks/6.png\n",
      "images/nocracks/33.jpg\n",
      "images/nocracks/7.png\n",
      "images/nocracks/9.jpg\n",
      "images/nocracks/34.jpg\n",
      "images/nocracks/8.png\n",
      "images/nocracks/35.jpg\n",
      "images/nocracks/36.jpg\n",
      "images/nocracks/37.jpg\n",
      "images/nocracks/10.jpg\n",
      "images/nocracks/12.jpg\n",
      "images/nocracks/11.png\n",
      "images/nocracks/13.jpg\n",
      "jobuild\n",
      "jobuild.e2474\n",
      "jobuild.o2474\n",
      "mean.sh\n",
      "models/\n",
      "models/caffe_alexnet_train_iter_450000.caffemodel\n",
      "models/crack_mean.binaryproto\n",
      "models/deploy_crack.prototxt\n",
      "models/labels.txt\n",
      "models/train_val.prototxt\n",
      "models/solver.prototxt\n",
      "models/crack_alexnet/\n",
      "models/crack_alexnet/train_val.prototxt\n",
      "run.ipynb\n",
      "src/\n",
      "src/crack.cpp\n",
      "src/crack.hpp\n",
      "src/main.cpp\n",
      "src/predict.hpp\n",
      "src/Makefile\n",
      "src/predict.cpp\n",
      "src/.ipynb_checkpoints/\n",
      "Test_Set/\n",
      "Test_Set/1.jpg\n",
      "Test_Set/10.jpg\n",
      "Test_Set/11.jpg\n",
      "Test_Set/12.jpg\n",
      "Test_Set/13.jpg\n",
      "Test_Set/14.jpg\n",
      "Test_Set/15.jpg\n",
      "Test_Set/16.jpg\n",
      "Test_Set/17.jpg\n",
      "Test_Set/18.jpg\n",
      "Test_Set/19.jpg\n",
      "Test_Set/2.jpg\n",
      "Test_Set/20.jpg\n",
      "Test_Set/21.jpg\n",
      "Test_Set/22.jpg\n",
      "Test_Set/23.jpg\n",
      "Test_Set/24.jpg\n",
      "Test_Set/25.jpg\n",
      "Test_Set/3.jpg\n",
      "Test_Set/4.jpg\n",
      "Test_Set/5.jpg\n",
      "Test_Set/6.jpg\n",
      "Test_Set/7.jpg\n",
      "Test_Set/8.jpg\n",
      "Test_Set/9.jpg\n"
     ]
    }
   ],
   "source": [
    "!tar chvfz notebook.tar.gz *"
   ]
  },
  {
   "cell_type": "code",
   "execution_count": 9,
   "metadata": {},
   "outputs": [
    {
     "name": "stdout",
     "output_type": "stream",
     "text": [
      "00.ipynb    CMakeLists.txt   jobuild\t    mean.sh\t     run.ipynb\r\n",
      "00.ipynb.1  FindCaffe.cmake  jobuild.e2474  models\t     src\r\n",
      "build\t    images\t     jobuild.o2474  notebook.tar.gz  Test_Set\r\n"
     ]
    }
   ],
   "source": [
    "\n"
   ]
  },
  {
   "cell_type": "code",
   "execution_count": 7,
   "metadata": {},
   "outputs": [
    {
     "name": "stdout",
     "output_type": "stream",
     "text": [
      "--2018-07-05 22:06:40--  https://github.com/rajathkmp/Python-Lectures/blob/master/00.ipynb\n",
      "Resolving github.com (github.com)... 192.30.255.113, 192.30.255.112\n",
      "Connecting to github.com (github.com)|192.30.255.113|:443... connected.\n",
      "HTTP request sent, awaiting response... 200 OK\n",
      "Length: unspecified [text/html]\n",
      "Saving to: ‘00.ipynb.1’\n",
      "\n",
      "    [ <=>                                   ] 42,132      --.-K/s   in 0.05s   \n",
      "\n",
      "2018-07-05 22:06:41 (862 KB/s) - ‘00.ipynb.1’ saved [42132]\n",
      "\n"
     ]
    }
   ],
   "source": [
    "!wget https://github.com/rajathkmp/Python-Lectures/blob/master/00.ipynb"
   ]
  },
  {
   "cell_type": "code",
   "execution_count": null,
   "metadata": {},
   "outputs": [],
   "source": [
    "!ls"
   ]
  },
  {
   "cell_type": "code",
   "execution_count": 2,
   "metadata": {},
   "outputs": [
    {
     "name": "stdout",
     "output_type": "stream",
     "text": [
      "2474.c002\r\n"
     ]
    }
   ],
   "source": [
    "!qsub jobuild"
   ]
  },
  {
   "cell_type": "code",
   "execution_count": 6,
   "metadata": {},
   "outputs": [
    {
     "name": "stdout",
     "output_type": "stream",
     "text": [
      "/var/spool/torque/mom_priv/jobs/2474.c002.SC: line 7: /usr/bin/cmake: No such file or directory\r\n",
      "\r\n",
      "########################################################################\r\n",
      "#      Date:           Thu Jul  5 21:29:25 PDT 2018\r\n",
      "#    Job ID:           2474.c002\r\n",
      "#      User:           u14924\r\n",
      "# Resources:           neednodes=1,nodes=1,walltime=06:00:00\r\n",
      "########################################################################\r\n",
      "\r\n",
      "/home/u14924/crackdetection\r\n",
      "\r\n",
      "########################################################################\r\n",
      "# End of output for job 2474.c002\r\n",
      "# Date: Thu Jul  5 21:29:25 PDT 2018\r\n",
      "########################################################################\r\n",
      "\r\n"
     ]
    }
   ],
   "source": [
    "!cat jobuild.*\n"
   ]
  },
  {
   "cell_type": "code",
   "execution_count": 4,
   "metadata": {},
   "outputs": [
    {
     "name": "stdout",
     "output_type": "stream",
     "text": [
      "Job ID                    Name             User            Time Use S Queue\r\n",
      "------------------------- ---------------- --------------- -------- - -----\r\n",
      "2472.c002                  ...ub-singleuser u14924          00:00:01 R jupyterhub     \r\n"
     ]
    }
   ],
   "source": [
    "!qstat"
   ]
  }
 ],
 "metadata": {
  "kernelspec": {
   "display_name": "Python 3 (Intel, 2018 update 2)",
   "language": "python",
   "name": "intel_distribution_of_python_3_2018u2"
  },
  "language_info": {
   "codemirror_mode": {
    "name": "ipython",
    "version": 3
   },
   "file_extension": ".py",
   "mimetype": "text/x-python",
   "name": "python",
   "nbconvert_exporter": "python",
   "pygments_lexer": "ipython3",
   "version": "3.6.3"
  }
 },
 "nbformat": 4,
 "nbformat_minor": 2
}
